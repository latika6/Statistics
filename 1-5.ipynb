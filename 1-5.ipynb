{
 "cells": [
  {
   "cell_type": "code",
   "execution_count": null,
   "metadata": {},
   "outputs": [],
   "source": [
    "#1 Calculate the mean, median, and mode of a given dataset"
   ]
  },
  {
   "cell_type": "code",
   "execution_count": 1,
   "metadata": {},
   "outputs": [
    {
     "name": "stdout",
     "output_type": "stream",
     "text": [
      "Mean: 32.857142857142854\n",
      "Median: 40\n",
      "Mode: 40\n"
     ]
    }
   ],
   "source": [
    "from statistics import mean, median, mode\n",
    "data = [10, 20, 30, 40, 40, 40, 50]\n",
    "\n",
    "#mean\n",
    "mean_value = mean(data)\n",
    "print(\"Mean:\", mean_value)\n",
    "\n",
    "#median\n",
    "median_value = median(data)\n",
    "print(\"Median:\", median_value)\n",
    "\n",
    "#mode\n",
    "mode_value = mode(data)\n",
    "print(\"Mode:\", mode_value)"
   ]
  },
  {
   "cell_type": "code",
   "execution_count": null,
   "metadata": {},
   "outputs": [],
   "source": [
    "#2 Calculate the variance and standard deviation of a dataset"
   ]
  },
  {
   "cell_type": "code",
   "execution_count": 2,
   "metadata": {},
   "outputs": [
    {
     "name": "stdout",
     "output_type": "stream",
     "text": [
      "Variance: 190.47619047619048\n",
      "Standard Deviation: 13.801311186847084\n"
     ]
    }
   ],
   "source": [
    "from statistics import variance, stdev\n",
    "data = [10, 20, 30, 40, 40, 40, 50]\n",
    "\n",
    "# variance\n",
    "variance_value = variance(data)\n",
    "print(\"Variance:\", variance_value)\n",
    "\n",
    "#standard deviation\n",
    "stdev_value = stdev(data)\n",
    "print(\"Standard Deviation:\", stdev_value)"
   ]
  },
  {
   "cell_type": "code",
   "execution_count": null,
   "metadata": {},
   "outputs": [],
   "source": [
    "#3 Generate a random sample from a normal distribution with a given mean and standard deviation."
   ]
  },
  {
   "cell_type": "code",
   "execution_count": 6,
   "metadata": {},
   "outputs": [
    {
     "name": "stdout",
     "output_type": "stream",
     "text": [
      "Random Sample from Normal Distribution:\n",
      "[ 1.70659216  0.17982851 -1.03579952 -0.77152519  0.43866339  0.51493068\n",
      " -0.28291783  0.3808961   0.07981916 -0.32203586]\n"
     ]
    }
   ],
   "source": [
    "import numpy as np\n",
    "\n",
    "# Set mean and standard deviation\n",
    "mean = 0\n",
    "std_dev = 1\n",
    "\n",
    "# Generate random sample\n",
    "sample_size = 10\n",
    "random_sample = np.random.normal(mean, std_dev, sample_size)\n",
    "\n",
    "print(\"Random Sample from Normal Distribution:\")\n",
    "print(random_sample)"
   ]
  },
  {
   "cell_type": "code",
   "execution_count": null,
   "metadata": {},
   "outputs": [],
   "source": [
    "#4 Calculate the correlation coefficient between two variables."
   ]
  },
  {
   "cell_type": "code",
   "execution_count": 7,
   "metadata": {},
   "outputs": [
    {
     "name": "stdout",
     "output_type": "stream",
     "text": [
      "Correlation Coefficient between x and y: 0.9999999999999999\n"
     ]
    }
   ],
   "source": [
    "import numpy as np\n",
    "\n",
    "# Example data\n",
    "x = [1, 2, 3, 4, 5]\n",
    "y = [2, 3, 4, 5, 6]\n",
    "\n",
    "# Calculate correlation coefficient\n",
    "correlation_coefficient = np.corrcoef(x, y)[0, 1]\n",
    "\n",
    "print(\"Correlation Coefficient between x and y:\", correlation_coefficient)"
   ]
  },
  {
   "cell_type": "code",
   "execution_count": null,
   "metadata": {},
   "outputs": [],
   "source": [
    "# So, `[0, 1]` corresponds to the correlation coefficient between the first and second variables (`x` and `y` in the example). \n",
    "# If you had more variables, you would use other indices like `[0, 2]` for the correlation between the first and third variables, and so on."
   ]
  },
  {
   "cell_type": "code",
   "execution_count": null,
   "metadata": {},
   "outputs": [],
   "source": [
    "#5 Perform a hypothesis test for the difference between two population means."
   ]
  },
  {
   "cell_type": "code",
   "execution_count": 8,
   "metadata": {},
   "outputs": [
    {
     "name": "stdout",
     "output_type": "stream",
     "text": [
      "t-statistic: 0.5741692517632145\n",
      "p-value: 0.5816333668955778\n",
      "Fail to reject the null hypothesis: There is no significant difference between the means.\n"
     ]
    }
   ],
   "source": [
    "from scipy import stats\n",
    "\n",
    "group1 = [25, 30, 35, 40, 45]\n",
    "group2 = [20, 28, 32, 38, 42]\n",
    "\n",
    "# Perform two-sample t-test\n",
    "t_statistic, p_value = stats.ttest_ind(group1, group2)\n",
    "\n",
    "print(\"t-statistic:\", t_statistic)\n",
    "print(\"p-value:\", p_value)\n",
    "\n",
    "# Compare p-value to alpha (e.g., 0.05) to determine significance\n",
    "alpha = 0.05\n",
    "if p_value < alpha:\n",
    "    print(\"Reject the null hypothesis: There is a significant difference between the means.\")\n",
    "else:\n",
    "    print(\"Fail to reject the null hypothesis: There is no significant difference between the means.\")\n"
   ]
  }
 ],
 "metadata": {
  "kernelspec": {
   "display_name": "base",
   "language": "python",
   "name": "python3"
  },
  "language_info": {
   "codemirror_mode": {
    "name": "ipython",
    "version": 3
   },
   "file_extension": ".py",
   "mimetype": "text/x-python",
   "name": "python",
   "nbconvert_exporter": "python",
   "pygments_lexer": "ipython3",
   "version": "3.11.7"
  }
 },
 "nbformat": 4,
 "nbformat_minor": 2
}
