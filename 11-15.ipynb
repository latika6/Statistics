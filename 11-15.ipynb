{
 "cells": [
  {
   "cell_type": "code",
   "execution_count": 1,
   "metadata": {},
   "outputs": [
    {
     "name": "stdout",
     "output_type": "stream",
     "text": [
      "Confidence Interval: (5.623477350975228, 9.376522649024771)\n"
     ]
    }
   ],
   "source": [
    "import numpy as np\n",
    "from scipy import stats\n",
    "\n",
    "# Sample data\n",
    "data = np.array([3, 4, 5, 6, 7, 8, 9, 10, 11, 12])\n",
    "\n",
    "# 10. Confidence interval for a population mean\n",
    "confidence_interval = stats.norm.interval(0.95, loc=np.mean(data), scale=stats.sem(data))\n",
    "print(\"Confidence Interval:\", confidence_interval)"
   ]
  },
  {
   "cell_type": "code",
   "execution_count": 2,
   "metadata": {},
   "outputs": [],
   "source": [
    "# Two sample datasets\n",
    "data1 = np.array([1, 2, 3, 4, 5])\n",
    "data2 = np.array([6, 7, 8, 9, 10])"
   ]
  },
  {
   "cell_type": "code",
   "execution_count": 3,
   "metadata": {},
   "outputs": [
    {
     "name": "stdout",
     "output_type": "stream",
     "text": [
      "T-statistic: -5.0 P-value: 0.001052825793366539\n"
     ]
    }
   ],
   "source": [
    "# 11. T-test for the difference between two population means\n",
    "t_statistic, p_value = stats.ttest_ind(data1, data2)\n",
    "print(\"T-statistic:\", t_statistic, \"P-value:\", p_value)\n",
    "\n",
    "# Data for one-way ANOVA test\n",
    "group1 = np.array([1, 2, 3, 4, 5])\n",
    "group2 = np.array([6, 7, 8, 9, 10])\n",
    "group3 = np.array([11, 12, 13, 14, 15])"
   ]
  },
  {
   "cell_type": "code",
   "execution_count": 4,
   "metadata": {},
   "outputs": [
    {
     "name": "stdout",
     "output_type": "stream",
     "text": [
      "F-statistic: 50.0 P-value: 1.5127924217375409e-06\n"
     ]
    }
   ],
   "source": [
    "# 12. One-way ANOVA test\n",
    "f_statistic, p_value = stats.f_oneway(group1, group2, group3)\n",
    "print(\"F-statistic:\", f_statistic, \"P-value:\", p_value)\n",
    "\n",
    "# Data for odds ratio calculation\n",
    "a = 10\n",
    "b = 20\n",
    "c = 30\n",
    "d = 40"
   ]
  },
  {
   "cell_type": "code",
   "execution_count": 5,
   "metadata": {},
   "outputs": [
    {
     "name": "stdout",
     "output_type": "stream",
     "text": [
      "Odds Ratio: 0.6666666666666666\n"
     ]
    }
   ],
   "source": [
    "# 13. Calculate odds ratio for a 2x2 contingency table\n",
    "odds_ratio = (a * d) / (b * c)\n",
    "print(\"Odds Ratio:\", odds_ratio)\n",
    "\n",
    "# Data for Shapiro-Wilk test\n",
    "data = np.array([1, 2, 3, 4, 5, 6, 7, 8, 9, 10])"
   ]
  },
  {
   "cell_type": "code",
   "execution_count": 6,
   "metadata": {},
   "outputs": [
    {
     "name": "stdout",
     "output_type": "stream",
     "text": [
      "Test Statistic: 0.9701647162437439 P-value: 0.8923683762550354\n"
     ]
    }
   ],
   "source": [
    "# 14. Shapiro-Wilk test for normality\n",
    "statistic, p_value = stats.shapiro(data)\n",
    "print(\"Test Statistic:\", statistic, \"P-value:\", p_value)\n",
    "\n",
    "# Data for Mann-Whitney U test\n",
    "group1 = np.array([1, 2, 3, 4, 5])\n",
    "group2 = np.array([6, 7, 8, 9, 10])"
   ]
  },
  {
   "cell_type": "code",
   "execution_count": 7,
   "metadata": {},
   "outputs": [
    {
     "name": "stdout",
     "output_type": "stream",
     "text": [
      "Test Statistic: 0.0 P-value: 0.007936507936507936\n"
     ]
    }
   ],
   "source": [
    "# 15. Mann-Whitney U test\n",
    "statistic, p_value = stats.mannwhitneyu(group1, group2)\n",
    "print(\"Test Statistic:\", statistic, \"P-value:\", p_value)"
   ]
  }
 ],
 "metadata": {
  "kernelspec": {
   "display_name": "base",
   "language": "python",
   "name": "python3"
  },
  "language_info": {
   "codemirror_mode": {
    "name": "ipython",
    "version": 3
   },
   "file_extension": ".py",
   "mimetype": "text/x-python",
   "name": "python",
   "nbconvert_exporter": "python",
   "pygments_lexer": "ipython3",
   "version": "3.11.7"
  }
 },
 "nbformat": 4,
 "nbformat_minor": 2
}
